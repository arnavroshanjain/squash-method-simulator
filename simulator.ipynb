{
 "cells": [
  {
   "cell_type": "code",
   "execution_count": null,
   "metadata": {},
   "outputs": [
    {
     "ename": "",
     "evalue": "",
     "output_type": "error",
     "traceback": [
      "\u001b[1;31mRunning cells with 'Python 3.10.4' requires the ipykernel package.\n",
      "\u001b[1;31mRun the following command to install 'ipykernel' into the Python environment. \n",
      "\u001b[1;31mCommand: '/usr/local/bin/python3 -m pip install ipykernel -U --user --force-reinstall'"
     ]
    }
   ],
   "source": [
    "# You may add additional imports here\n",
    "import random\n",
    "import matplotlib.pyplot as plt\n",
    "import numpy as np\n",
    "import csv\n"
   ]
  },
  {
   "cell_type": "markdown",
   "metadata": {},
   "source": [
    "Question 1\n",
    "==========\n",
    "\n",
    "All parts of Question 1 use the _point-a-rally (PARS) scoring_ system.\n",
    "\n",
    "**Question 1a:** Complete the following function so that it implements the PARS algorithm from the coursework specification.\n",
    "\n",
    "**[Functionality: 7 marks]**"
   ]
  },
  {
   "cell_type": "markdown",
   "metadata": {},
   "source": []
  },
  {
   "cell_type": "code",
   "execution_count": null,
   "metadata": {},
   "outputs": [
    {
     "ename": "",
     "evalue": "",
     "output_type": "error",
     "traceback": [
      "\u001b[1;31mRunning cells with 'Python 3.10.4' requires the ipykernel package.\n",
      "\u001b[1;31mRun the following command to install 'ipykernel' into the Python environment. \n",
      "\u001b[1;31mCommand: '/usr/local/bin/python3 -m pip install ipykernel -U --user --force-reinstall'"
     ]
    }
   ],
   "source": [
    "def game(ra, rb):\n",
    "    sum=ra+rb\n",
    "    p=(ra/sum)\n",
    "    ra_points=0\n",
    "    rb_points=0\n",
    "    game_over=False\n",
    "\n",
    "    while game_over==False:\n",
    "\n",
    "        r = random.random()\n",
    "        if r<p:\n",
    "            ra_points=ra_points+1\n",
    "        else:\n",
    "            rb_points=rb_points+1\n",
    "        if ra_points>=11 or rb_points>=11:\n",
    "            if abs(ra_points-rb_points)>=2:\n",
    "                game_over=True\n",
    "            else:\n",
    "                 game_over=False\n",
    "    return ra_points, rb_points"
   ]
  },
  {
   "cell_type": "markdown",
   "metadata": {},
   "source": [
    "**Testing:** If the random seed is set to 57, then calling the function with arguments `70` and `30` should return `(11,5)`."
   ]
  },
  {
   "cell_type": "markdown",
   "metadata": {},
   "source": []
  },
  {
   "cell_type": "code",
   "execution_count": null,
   "metadata": {},
   "outputs": [
    {
     "ename": "",
     "evalue": "",
     "output_type": "error",
     "traceback": [
      "\u001b[1;31mRunning cells with 'Python 3.10.4' requires the ipykernel package.\n",
      "\u001b[1;31mRun the following command to install 'ipykernel' into the Python environment. \n",
      "\u001b[1;31mCommand: '/usr/local/bin/python3 -m pip install ipykernel -U --user --force-reinstall'"
     ]
    }
   ],
   "source": [
    "random.seed(57)\n",
    "print(game(70, 30))"
   ]
  },
  {
   "cell_type": "markdown",
   "metadata": {},
   "source": [
    "**Question 1b:** Complete the following function `win_probability_game(ra, rb, simulations)` to simulate `simulations` games in order to estimate the probability that a player with ability `ra` will win a game against a player of ability `rb`.\n",
    "\n",
    "**[Functionality: 4 marks]**"
   ]
  },
  {
   "cell_type": "code",
   "execution_count": null,
   "metadata": {},
   "outputs": [
    {
     "ename": "",
     "evalue": "",
     "output_type": "error",
     "traceback": [
      "\u001b[1;31mRunning cells with 'Python 3.10.4' requires the ipykernel package.\n",
      "\u001b[1;31mRun the following command to install 'ipykernel' into the Python environment. \n",
      "\u001b[1;31mCommand: '/usr/local/bin/python3 -m pip install ipykernel -U --user --force-reinstall'"
     ]
    }
   ],
   "source": [
    "def win_probability_game(ra, rb, simulations):\n",
    "    ra_wins = 0\n",
    "\n",
    "    for i in range(simulations):\n",
    "        result = game(ra, rb)\n",
    "        if result[0] > result[1]:\n",
    "            ra_wins += 1\n",
    "\n",
    "    return ra_wins / simulations\n"
   ]
  },
  {
   "cell_type": "markdown",
   "metadata": {},
   "source": [
    "**Testing:** Given sufficient simulations, calling the function with abilities `70` and `30` should give the answer `0.98` when printed to 2 decimal places."
   ]
  },
  {
   "cell_type": "code",
   "execution_count": null,
   "metadata": {},
   "outputs": [
    {
     "ename": "",
     "evalue": "",
     "output_type": "error",
     "traceback": [
      "\u001b[1;31mRunning cells with 'Python 3.10.4' requires the ipykernel package.\n",
      "\u001b[1;31mRun the following command to install 'ipykernel' into the Python environment. \n",
      "\u001b[1;31mCommand: '/usr/local/bin/python3 -m pip install ipykernel -U --user --force-reinstall'"
     ]
    }
   ],
   "source": [
    "# Print win_probability_game(70, 30) to 2 decimal places for a suitable value of n:\n",
    "print(round(win_probability_game(70, 30, 10000), 2))"
   ]
  },
  {
   "cell_type": "markdown",
   "metadata": {},
   "source": [
    "**Question 1c:** Assume players abilities are given in a csv file with the format:\n",
    "```\n",
    "player a ability, player b ability,\n",
    "60, 20,\n",
    "100, 55,\n",
    "50, 40,\n",
    "20, 70,\n",
    "95, 85,\n",
    "```\n",
    "Complete the following function to read in a specified csv file of this format and return a `list` of `tuple`s containing each pair of abilities.\n",
    "\n",
    "**[Functionality: 4 marks]**"
   ]
  },
  {
   "cell_type": "markdown",
   "metadata": {},
   "source": []
  },
  {
   "cell_type": "code",
   "execution_count": null,
   "metadata": {},
   "outputs": [
    {
     "ename": "",
     "evalue": "",
     "output_type": "error",
     "traceback": [
      "\u001b[1;31mRunning cells with 'Python 3.10.4' requires the ipykernel package.\n",
      "\u001b[1;31mRun the following command to install 'ipykernel' into the Python environment. \n",
      "\u001b[1;31mCommand: '/usr/local/bin/python3 -m pip install ipykernel -U --user --force-reinstall'"
     ]
    }
   ],
   "source": [
    "def read_abilities(csv_file): # HINT: what should the argument be?\n",
    "    list_tuple=[]\n",
    "    with open(csv_file) as csvfile:\n",
    "        rdr = csv.reader(csvfile)\n",
    "        next(rdr) # skips first line in CSV file\n",
    "        for row in rdr:\n",
    "            each_rating=(int(row[0]),int(row[1]))\n",
    "            list_tuple.append(each_rating)\n",
    "    return list_tuple\n",
    "\n",
    "        "
   ]
  },
  {
   "cell_type": "markdown",
   "metadata": {},
   "source": [
    "**Testing:** Calling the function to read the file `test.csv` from Learning Central should return `[(60, 20), (100, 55), (50, 40), (20, 70), (95, 85)]`"
   ]
  },
  {
   "cell_type": "code",
   "execution_count": null,
   "metadata": {},
   "outputs": [
    {
     "ename": "",
     "evalue": "",
     "output_type": "error",
     "traceback": [
      "\u001b[1;31mRunning cells with 'Python 3.10.4' requires the ipykernel package.\n",
      "\u001b[1;31mRun the following command to install 'ipykernel' into the Python environment. \n",
      "\u001b[1;31mCommand: '/usr/local/bin/python3 -m pip install ipykernel -U --user --force-reinstall'"
     ]
    }
   ],
   "source": [
    "# Print the result of calling the function for the file `test.csv`\n",
    "\n",
    "csv_file=\"test.csv\"\n",
    "print(read_abilities(csv_file))\n"
   ]
  },
  {
   "cell_type": "markdown",
   "metadata": {},
   "source": [
    "**Testing:** The following figure (or similar) should result from the data `[(60, 20), (100, 55), (50, 40), (20, 70), (95, 85)]'\n",
    "\n",
    "<img src=\"./win_probabilities.png\" alt=\"Win probabilities\" width=\"500\">\n"
   ]
  },
  {
   "cell_type": "markdown",
   "metadata": {},
   "source": [
    "**Question 1d:** Write a function that takes a `list` of the format returned by your answer to 1c as an argument, and uses `matplotlib` to produce a plot (with labelled axes) showing the probability that player a beats player b (in a game) against `ra / r_b` for each pair.\n",
    "\n",
    "**[Functionality: 5 marks]**"
   ]
  },
  {
   "cell_type": "code",
   "execution_count": null,
   "metadata": {},
   "outputs": [
    {
     "ename": "",
     "evalue": "",
     "output_type": "error",
     "traceback": [
      "\u001b[1;31mRunning cells with 'Python 3.10.4' requires the ipykernel package.\n",
      "\u001b[1;31mRun the following command to install 'ipykernel' into the Python environment. \n",
      "\u001b[1;31mCommand: '/usr/local/bin/python3 -m pip install ipykernel -U --user --force-reinstall'"
     ]
    }
   ],
   "source": [
    "\n",
    "ra = []\n",
    "rb = []\n",
    "prob_ra_rb=[]\n",
    "win_ra=[]\n",
    "def plot_win_probabilities(output_list):\n",
    "    len_list=len(output_list)\n",
    "    for i in range(len_list):\n",
    "        ra.append(output_list[i][0]) \n",
    "        rb.append(output_list[i][1])\n",
    "        prob_ra_rb.append(ra[i]/rb[i])\n",
    "        win_ra.append(win_probability_game(ra[i],rb[i],10000))\n",
    "        \n",
    "    # print(win_ra)\n",
    "    # print(prob_ra_rb)\n",
    "\n",
    "    xpoints = np.array(prob_ra_rb)\n",
    "    ypoints = np.array(win_ra)\n",
    "    plt.plot(xpoints, ypoints, 'o')\n",
    "    plt.xlabel(\"ra/rb\")\n",
    "    plt.ylabel(\"Probability a wins\")\n",
    "    plt.title(\"Probability of player a wins against ra/rb\")\n",
    "    plt.xlim(0,3)\n",
    "    plt.ylim(0,1)\n",
    "    plt.show()\n",
    "\n",
    "output_list=read_abilities(\"test.csv\")\n"
   ]
  },
  {
   "cell_type": "code",
   "execution_count": null,
   "metadata": {},
   "outputs": [
    {
     "ename": "",
     "evalue": "",
     "output_type": "error",
     "traceback": [
      "\u001b[1;31mRunning cells with 'Python 3.10.4' requires the ipykernel package.\n",
      "\u001b[1;31mRun the following command to install 'ipykernel' into the Python environment. \n",
      "\u001b[1;31mCommand: '/usr/local/bin/python3 -m pip install ipykernel -U --user --force-reinstall'"
     ]
    }
   ],
   "source": [
    "# Call the function to plot the figure here\n",
    "plot_win_probabilities(output_list)"
   ]
  },
  {
   "cell_type": "markdown",
   "metadata": {},
   "source": [
    "**Question 1e:** Complete the following function `win_probability_match(ra, rb, simulations, m)` to simulate `simulations` matches which are won by the first player to win `m` games, and returns an estimate of the probability that a player with ability `ra` will win such a match against a player of ability `rb`.\n",
    "\n",
    "Provide code that works out the smallest value of `m` such that `win_probability_match(60, 40, simulations, m)` is at least `0.9`. \n",
    "\n",
    "_HINT: make sure you use an appropriate value for `simulations`._\n",
    "\n",
    "**[Functionality: 5 marks]**"
   ]
  },
  {
   "cell_type": "code",
   "execution_count": null,
   "metadata": {},
   "outputs": [
    {
     "ename": "",
     "evalue": "",
     "output_type": "error",
     "traceback": [
      "\u001b[1;31mRunning cells with 'Python 3.10.4' requires the ipykernel package.\n",
      "\u001b[1;31mRun the following command to install 'ipykernel' into the Python environment. \n",
      "\u001b[1;31mCommand: '/usr/local/bin/python3 -m pip install ipykernel -U --user --force-reinstall'"
     ]
    }
   ],
   "source": [
    "def match(ra, rb, m):\n",
    "    player_a_wins = 0\n",
    "    player_b_wins = 0\n",
    "\n",
    "    while (player_a_wins or player_b_wins) < m:\n",
    "        player_a_points, player_b_points = game(ra, rb)\n",
    "        if player_a_points > player_b_points:\n",
    "            player_a_wins += 1\n",
    "        elif player_b_points > player_a_points:\n",
    "            player_b_wins += 1\n",
    "\n",
    "    return player_a_wins, player_b_wins\n",
    "\n",
    "# print(match(60,40,5))\n",
    "\n",
    "def win_probability_match(ra, rb, simulations, m): \n",
    "    ra_wins = 0 \n",
    "    rb_wins = 0\n",
    "    for i in range(simulations): \n",
    "        player_a_wins, player_b_wins = match(ra, rb, m)\n",
    "        if player_a_wins > player_b_wins:\n",
    "            ra_wins += 1\n",
    "        else:\n",
    "            rb_wins += 1\n",
    "    return (ra_wins / simulations)\n",
    "\n",
    "\n",
    "def min_value(simulations, ra, rb, p):\n",
    "    m = 0\n",
    "    while win_probability_match(ra, rb, simulations, m) < p:\n",
    "        m += 1\n",
    "    return m\n",
    "\n",
    "\n",
    "m_value = min_value(1000, 60, 40, 0.9)\n",
    "print(\"Minimum value of m:\", m_value)"
   ]
  },
  {
   "cell_type": "markdown",
   "metadata": {},
   "source": [
    "Question 2\n",
    "==========\n",
    "\n",
    "Complete the remaining template of a scientific report that uses the results of simulation (with suitable input data) to investigate whether English or PARS is the ``better'' scoring method for squash matches. \n",
    "\n",
    "You should clearly state any assumptions you make, and may add any number of code cells. Guidance for completing the markdown/text cells is given in the coursework specification. The word count of the remaining markdown/text cells must be at most 750.\n",
    "\n",
    "Your investigation should consider the relative ability of the two players (i.e. `ra/rb`) as the _independent variable_ and include appropriate figures that show how your choice of relevant _dependent variable_ varies. Your results **must** cover at least 50 different values of `ra/rb`.\n",
    "\n",
    "Some starting points you may consider:\n",
    "- How _fair_ is the scoring method - does the better player usually win?\n",
    "- Shorter matches are usually preferable (e.g. for television) - if you assume each rally in a match takes equal time, how long do matches typically last?\n",
    "- What effect does the relative ability of the two players have?\n",
    "\n",
    "**[Report: 7 marks; Achievement: 8 marks]**"
   ]
  },
  {
   "cell_type": "code",
   "execution_count": null,
   "metadata": {},
   "outputs": [
    {
     "ename": "",
     "evalue": "",
     "output_type": "error",
     "traceback": [
      "\u001b[1;31mRunning cells with 'Python 3.10.4' requires the ipykernel package.\n",
      "\u001b[1;31mRun the following command to install 'ipykernel' into the Python environment. \n",
      "\u001b[1;31mCommand: '/usr/local/bin/python3 -m pip install ipykernel -U --user --force-reinstall'"
     ]
    }
   ],
   "source": [
    "# Code for a game in English format\n",
    "\n",
    "def english_game(ra, rb):\n",
    "    sum=ra+rb\n",
    "    p=(ra/sum)\n",
    "    ra_points=0\n",
    "    rb_points=0\n",
    "    server=random.choice(['a','b'])\n",
    "    game_over=False\n",
    "    rally=0\n",
    "    max_score=9\n",
    "    while game_over==False:       \n",
    "        rally=rally+1\n",
    "        r = random.random()\n",
    "        if server == 'a':\n",
    "            if r<p:\n",
    "               ra_points=ra_points+1\n",
    "            else:\n",
    "                server = 'b'       \n",
    "        if server == 'b':\n",
    "            if r<p:\n",
    "               server = 'a'\n",
    "            else:\n",
    "                rb_points = rb_points+1\n",
    "        if ra_points == 8 and rb_points == 8:\n",
    "            max_score = random.choice([9, 10])\n",
    "        if ra_points == max_score or rb_points == max_score:\n",
    "            game_over = True      \n",
    "\n",
    "    return ra_points, rb_points\n",
    "english_game(50,50)"
   ]
  },
  {
   "cell_type": "code",
   "execution_count": null,
   "metadata": {},
   "outputs": [
    {
     "ename": "",
     "evalue": "",
     "output_type": "error",
     "traceback": [
      "\u001b[1;31mRunning cells with 'Python 3.10.4' requires the ipykernel package.\n",
      "\u001b[1;31mRun the following command to install 'ipykernel' into the Python environment. \n",
      "\u001b[1;31mCommand: '/usr/local/bin/python3 -m pip install ipykernel -U --user --force-reinstall'"
     ]
    }
   ],
   "source": [
    "def english_win_probability_game(ra, rb, simulations):\n",
    "    ra_wins = 0\n",
    "\n",
    "    for i in range(simulations):\n",
    "        result = english_game(ra, rb)\n",
    "        if result[0] > result[1]:\n",
    "            ra_wins += 1\n",
    "\n",
    "    return ra_wins / simulations"
   ]
  },
  {
   "cell_type": "code",
   "execution_count": null,
   "metadata": {},
   "outputs": [
    {
     "ename": "",
     "evalue": "",
     "output_type": "error",
     "traceback": [
      "\u001b[1;31mRunning cells with 'Python 3.10.4' requires the ipykernel package.\n",
      "\u001b[1;31mRun the following command to install 'ipykernel' into the Python environment. \n",
      "\u001b[1;31mCommand: '/usr/local/bin/python3 -m pip install ipykernel -U --user --force-reinstall'"
     ]
    }
   ],
   "source": [
    "def english_match(ra, rb, m):\n",
    "    player_a_wins = 0\n",
    "    player_b_wins = 0\n",
    "    while (player_a_wins or player_b_wins) < m:\n",
    "        player_a_points, player_b_points = english_game(ra, rb)\n",
    "        if player_a_points > player_b_points:\n",
    "            player_a_wins += 1\n",
    "        elif player_b_points > player_a_points:\n",
    "            player_b_wins += 1\n",
    "\n",
    "    return player_a_wins, player_b_wins\n",
    "\n",
    "\n",
    "def english_win_probability_match(ra, rb, simulations, m): \n",
    "    ra_wins = 0 \n",
    "    rb_wins = 0\n",
    "    for games in range(simulations): \n",
    "        player_a_wins, player_b_wins = english_match(ra, rb, m)\n",
    "        if player_a_wins > player_b_wins:\n",
    "            ra_wins += 1\n",
    "        else:\n",
    "            rb_wins += 1\n",
    "    return (ra_wins / simulations)\n",
    "\n",
    "\n",
    "def min_value(simulations, ra, rb, p):\n",
    "    m = 0\n",
    "    while win_probability_match(ra, rb, simulations, m) < p:\n",
    "        m += 1\n",
    "    return m\n",
    "m_value = min_value(1000, 60, 40, 0.9)\n"
   ]
  },
  {
   "cell_type": "markdown",
   "metadata": {},
   "source": [
    "## Problem"
   ]
  },
  {
   "cell_type": "markdown",
   "metadata": {},
   "source": [
    "I am investigating whether the PARS or English format is a “better” scoring method in the game of Squash. To decide on the “better” scoring method, I will compare a simulation of 10,000 matches of the PARS format and the English format of squash. The two formats are being compared in terms of their fairness, that is, whether the higher-ability player has close to the same win probability in both methods. In addition, it is being compared based on how long matches typically last. This done by calculating, how many rallies it takes for a match to end.\n"
   ]
  },
  {
   "cell_type": "markdown",
   "metadata": {},
   "source": [
    "## Method\n",
    "\n",
    "The following approach was taken to investigate the “better” scoring method.\n",
    "I developed programs for the English game format and the PARS Game format. I considered relevant rules for the English format, such as the server rule and the game length when the score reaches 8-8. For the latter, I called the program from Question 1a.\n",
    "\n",
    "Then, I developed a function for the English match. The English match function involved taking the abilities of the players (ra, rb) and m (the number of games required to win the match). “m” in this instance was set to 5, as that is the number of games required to win an English match.\n",
    "To generate the test data, I used a random generator to generate abilities between 0 and 100. I placed this data in a CSV file (players.csv) and used the function read_abilities  (written in Question 1c) to read the file's data. Players.csv contains 125 test values.\n",
    "\n",
    "I plotted the data using matplotlib, on a graph with the probability of “a” winning on the y-axis and  “ra/rb” on the x-axis. The use of “plt.legend()” allowed for the PARS and English method to be plotted on the same graph, thereby allowing for a clear comparison of the methods.\n",
    "To measure the length of a game, I modified the existing function of the game by returning the number of rallies. I compared the number of rallies it takes to complete a match to a range of player abilities (ra,rb) to see how long an average game takes. \n",
    "\n",
    "\n"
   ]
  },
  {
   "cell_type": "markdown",
   "metadata": {},
   "source": [
    "## Assumptions\n",
    "\n",
    "Throughout this experiment, several factors/aspects of the simulations are assumed. Firstly, the ability of the players. While players' abilities are generated randomly, they are assumed to remain the same throughout the game. It does not consider a player's fatigue and tiredness as the game progresses.\n",
    "\n",
    "Additionally, it is assumed in the English format that the server is chosen randomly. In a real-life match, the player to serve first is decided by the spin of a racket. It is also assumed when an 8-8 tie is present, the winning score will be randomly chosen to be 9 or 10 (this is done by changing the max_score of the game). \n"
   ]
  },
  {
   "cell_type": "markdown",
   "metadata": {},
   "source": [
    "## Results\n",
    "\n"
   ]
  },
  {
   "cell_type": "code",
   "execution_count": null,
   "metadata": {},
   "outputs": [
    {
     "ename": "",
     "evalue": "",
     "output_type": "error",
     "traceback": [
      "\u001b[1;31mRunning cells with 'Python 3.10.4' requires the ipykernel package.\n",
      "\u001b[1;31mRun the following command to install 'ipykernel' into the Python environment. \n",
      "\u001b[1;31mCommand: '/usr/local/bin/python3 -m pip install ipykernel -U --user --force-reinstall'"
     ]
    }
   ],
   "source": [
    " # Code which plots PARS, English Graph:\n",
    "\n",
    "ra = []\n",
    "rb = []\n",
    "prob_ra_rb=[]\n",
    "win_match=[]\n",
    "english_win_match=[]\n",
    "def plot_win_probabilities(output_list):\n",
    "    len_list=len(output_list)\n",
    "    for i in range(len_list):\n",
    "        ra.append(output_list[i][0]) \n",
    "        rb.append(output_list[i][1])\n",
    "        prob_ra_rb.append(ra[i]/rb[i])\n",
    "        \n",
    "        win_match.append(win_probability_match(ra[i], rb[i], 10000, 3))\n",
    "        english_win_match.append(english_win_probability_match(ra[i], rb[i], 10000, 3))\n",
    "        \n",
    "    xpoints = np.array(prob_ra_rb)\n",
    "    y3 = np.array(win_match)\n",
    "    y4= np.array(english_win_match)\n",
    "\n",
    "    plt.plot(xpoints, y3, 'o', label='PARS Match Probability')\n",
    "    plt.plot(xpoints, y4, 'o', label='English Match Probability')\n",
    "\n",
    "    plt.xlabel(\"ra/rb\")\n",
    "    plt.ylabel(\"Probability a wins\")\n",
    "    plt.title(\"Probability of player a winning against ra/rb\")\n",
    "    plt.xlim(0, 4)\n",
    "    plt.ylim(0, 1)\n",
    "\n",
    "    plt.legend()\n",
    "    plt.show()\n",
    "\n",
    "\n",
    "output_list=read_abilities(\"players.csv\")\n",
    "plot_win_probabilities(output_list)\n",
    "\n",
    "# Modified Code which Returns Rally:\n",
    "\n",
    "def english_game(ra, rb):\n",
    "    sum=ra+rb\n",
    "    p=(ra/sum)\n",
    "    ra_points=0\n",
    "    rb_points=0\n",
    "    server=random.choice(['a','b'])\n",
    "    game_over=False\n",
    "    rallies=0\n",
    "    max_score=9\n",
    "    while game_over==False:       \n",
    "        rallies=rallies+1\n",
    "        r = random.random()\n",
    "        if server == 'a':\n",
    "            if r<p:\n",
    "               ra_points=ra_points+1\n",
    "            else:\n",
    "                server = 'b'       \n",
    "        if server == 'b':\n",
    "            if r<p:\n",
    "               server = 'a'\n",
    "            else:\n",
    "                rb_points = rb_points+1\n",
    "        if ra_points == 8 and rb_points == 8:\n",
    "            max_score = random.choice([9, 10])\n",
    "        if ra_points == max_score or rb_points == max_score:\n",
    "            game_over = True      \n",
    "\n",
    "    return ra_points, rb_points, rallies\n",
    "english_game(50,50)\n",
    "\n",
    "\n",
    "\n",
    "\n",
    "def win_probability_english(ra, rb, simulations):\n",
    "    ra_wins = 0\n",
    "    rally=0\n",
    "\n",
    "    for i in range(simulations):\n",
    "        ra_score, rb_score, rallies = english_game(ra, rb)\n",
    "        if ra_score > rb_score:\n",
    "            ra_wins += 1\n",
    "        rally += rallies\n",
    "   \n",
    "    avg_rally=rally/simulations\n",
    "    return ra_wins / simulations, avg_rally, rally\n",
    "\n",
    "\n",
    "\n",
    "def game(ra, rb):\n",
    "    sum=ra+rb\n",
    "    p=(ra/sum)\n",
    "    ra_points=0\n",
    "    rb_points=0\n",
    "    game_over=False\n",
    "    rallies=0\n",
    "\n",
    "    while game_over==False:\n",
    "        rallies += 1\n",
    "        r = random.random()\n",
    "        if r<p:\n",
    "            ra_points=ra_points+1\n",
    "        else:\n",
    "            rb_points=rb_points+1\n",
    "        if ra_points>=11 or rb_points>=11:\n",
    "            if abs(ra_points-rb_points)>=2:\n",
    "                game_over=True\n",
    "            else:\n",
    "                 game_over=False\n",
    "    return ra_points, rb_points, rallies\n",
    "\n",
    "def win_probability_pars(ra, rb, simulations):\n",
    "    ra_wins = 0\n",
    "    rally=0\n",
    "\n",
    "    for i in range(simulations):\n",
    "        ra_score, rb_score, rallies = game(ra, rb)\n",
    "        if ra_score > rb_score:\n",
    "            ra_wins += 1\n",
    "        \n",
    "\n",
    "        rally+=rallies\n",
    "    avg_rally=rally/simulations\n",
    "\n",
    "    return ra_wins / simulations, avg_rally, rally\n",
    "\n",
    "\n",
    "print(win_probability_english(70,30,1000))\n",
    "print(win_probability_pars(70,30,1000))\n",
    "\n",
    "print(win_probability_english(50,50,1000))\n",
    "print(win_probability_pars(50,50,1000))\n",
    "\n",
    "print(win_probability_english(30,70,1000))\n",
    "print(win_probability_pars(30,70,1000))"
   ]
  },
  {
   "cell_type": "markdown",
   "metadata": {},
   "source": [
    "## Conclusions\n",
    "\n",
    "As seen in the results above, we can conclude the following:\n",
    "\n",
    "When the ability of player A and player B is equal, the probability of a player winning a match in the PARS format and English is almost exactly equal. This can be seen with the horizontal line at abilities between 0 and 1 and can also be seen when player A is significantly better than player B (when ra/rb > 3)\n",
    "\n",
    "However, at different relative abilities (ra/rb), for example, between 1.5 and 2, player A is more likely to win in the PARS format. This may not always be the case in real-life scenarios, as several assumptions (as mentioned above) have been made throughout the experiment.\n",
    "\n",
    "With regards to the time taken to complete the match on average, a PARS match is faster to complete. On average in 1000 simulations, a PARS match has 21 rallies, and English games have 24 rallies. In terms of viewership, shorter games can be more engaging, and therefore more entertaining to watch.\n",
    "\n",
    "Overall, it is difficult to comment on the better format without running real-life simulations; however, based on the above results, PARS can be said to be the better scoring method.\n"
   ]
  }
 ],
 "metadata": {
  "interpreter": {
   "hash": "183b6f3dd52b9ae2bd385afe1588cc6cf56d78005d888e2b09b3c195f16f84ec"
  },
  "kernelspec": {
   "display_name": "Python 3.9.1 64-bit ('base': conda)",
   "name": "python3"
  },
  "language_info": {
   "codemirror_mode": {
    "name": "ipython",
    "version": 3
   },
   "file_extension": ".py",
   "mimetype": "text/x-python",
   "name": "python",
   "nbconvert_exporter": "python",
   "pygments_lexer": "ipython3",
   "version": "3.10.4"
  },
  "orig_nbformat": 4
 },
 "nbformat": 4,
 "nbformat_minor": 2
}
